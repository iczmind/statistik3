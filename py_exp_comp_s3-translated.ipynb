{
 "cells": [
  {
   "cell_type": "markdown",
   "metadata": {},
   "source": [
    "<figure>\n",
    "  <IMG SRC=\"https://raw.githubusercontent.com/mbakker7/exploratory_computing_with_python/master/tudelft_logo.png\" WIDTH=250 ALIGN=\"right\">\n",
    "</figure>\n",
    "\n",
    "# Komputasi Eksplorasi menggunakan Python\n",
    "*Oleh Mark Bakker*"
   ]
  },
  {
   "cell_type": "markdown",
   "metadata": {},
   "source": [
    "##  *Notebook* Statistik 3: Distribusi nilai rata-rata, pengujian hipotesis, dan teorema limit sentral\n",
    "Dalam *notebook* ini pertama-tama kita akan menginvestigasi distribusi nilai rata-rata sebuah dataset, kemudian kita akan membuat simulasi beberapa pengujian hipotesis, dan ditutup dengan menyelidiki teorema limit sentral."
   ]
  },
  {
   "cell_type": "code",
   "execution_count": 17,
   "metadata": {
    "collapsed": false
   },
   "outputs": [],
   "source": [
    "import numpy as np\n",
    "import matplotlib.pyplot as plt\n",
    "import numpy.random as rnd\n",
    "%matplotlib inline"
   ]
  },
  {
   "cell_type": "markdown",
   "metadata": {},
   "source": [
    "Perhatikanlah sebuah data set dengan 100 poin data. Data tersebut diambil dari distribusi normal dengan nilai rata-rata (*mean*) 4 dan standar deviasi 2. Seperti yang telah kita lihat sebelumnya, nilai rata-rata sampel dari 100 poin data hampir selalu berbeda dari 4. Dan, setiap kali kita membuat sebuah set baru dengan 100 poin data, nilai rata-ratanya juga akan berbeda."
   ]
  },
  {
   "cell_type": "code",
   "execution_count": 18,
   "metadata": {
    "collapsed": false
   },
   "outputs": [
    {
     "name": "stdout",
     "output_type": "stream",
     "text": [
      "nilai rata-rata a:  4.06127165222\n",
      "nilai rata-rata a:  4.06109246056\n",
      "nilai rata-rata a:  4.13779612828\n",
      "nilai rata-rata a:  3.95884004367\n",
      "nilai rata-rata a:  4.1136581844\n"
     ]
    }
   ],
   "source": [
    "for i in range(5):\n",
    "    a = 2 * rnd.standard_normal(100) + 4\n",
    "    print('nilai rata-rata a: ', np.mean(a))"
   ]
  },
  {
   "cell_type": "markdown",
   "metadata": {},
   "source": [
    "Sebenarnya, nilai rata-rata dataset tersebut dapat dianggap sebagai variabel acak dengan distribusinya sendiri."
   ]
  },
  {
   "cell_type": "markdown",
   "metadata": {},
   "source": [
    "###Contoh Standar Deviasi\n",
    "Contoh standar deviasi $s_n$ dari sebuah dataset dengan nilai $n$ dapat didefinisikan sebagai:\n",
    "\n",
    "$s_n = \\sqrt{ \\frac{1}{n-1} \\sum_{i=1}^n (x_i - \\overline{x}_n)^2 }$\n",
    "`numpy`\n",
    "dan dapat dihitung dengan fungsi `std` dari paket `numpy`. Sesuai pengaturan standar, fungsi `std` membagi jumlah data dengan $n$, bukan dengan $n-1$. Untuk membaginya dengan $n-1$, karena tentu saja kita menginginkan estimasi yang tidak bias dari standar deviasi, tentukanlah argumen kata kunci `ddof=1` dalam fungsi `std`."
   ]
  },
  {
   "cell_type": "markdown",
   "metadata": {},
   "source": [
    "###Latihan 1. <a name=\"back1\"></a>Histogram dari nilai rata-rata dataset dengan 100 nilai \n",
    "\n",
    "Susunlah 1000 dataset, masing-masing memiliki 100 nilai yang diambil dari distribusi normal dengan nilai rata-rata 4 dan standar deviasi 2; gunakanlah *seed* 22. Hitunglah nilai rata-rata tiap dataset dan simpanlah nilai tersebut di dalam sebuah array dengan panjang 1000. Hitunglah nilai rata-rata dari seluruh nilai rata-rata tersebut beserta standar deviasinya, kemudian tampilkanlah nilai tersebut ke layar. Gambarlah sebuah *boxplot* dari nilai  rata-rata tersebut. Kemudian, dalam figur yang terpisah, buatlah sebuah histogram dari kumpulan nilai rata-rata tersebut dan pastikan sumbu horizontalnya terbentang dari 3 sampai 5. Ingatlah kembali bahwa Anda dapat memulai figur baru dengan menggunakan fungsi `figure()`."
   ]
  },
  {
   "cell_type": "markdown",
   "metadata": {},
   "source": [
    "<a href=\"#ex1answer\">Kunci Jawaban Latihan 1</a>"
   ]
  },
  {
   "cell_type": "markdown",
   "metadata": {},
   "source": [
    "###Latihan 2. <a name=\"back2\"></a>Histogram dari nilai rata-rata dataset dengan 1000 nilai\n",
    "\n",
    "Ulanglah pengerjaan Latihan 1 dengan membuat 1000 dataset, tetapi untuk sekarang masing-masing dataset memiliki 1000 nilai (bukan 100 nilai lagi), yang diambil dari distribusi normal yang sama dengan nilai rata-rata 4 dan standar deviasi 2, dan juga dengan *seed* 22. Pastikan bahwa limit untuk sumbu horizontal histogram terbentang dari 3 sampai 5, sehingga histogram tersebut dapat dibandingkan dengan histogram yang Anda buat sebelumnya. Apakah persebaran nilai rata-rata tersebut lebih kecil jika dibandingkan dengan dataset sebelumnya yang hanya berisikan 100 nilai?"
   ]
  },
  {
   "cell_type": "markdown",
   "metadata": {},
   "source": [
    "<a href=\"#ex2answer\">Kunci Jawaban Latihan 2</a>"
   ]
  },
  {
   "cell_type": "markdown",
   "metadata": {},
   "source": [
    "###Standar deviasi sampel dari nilai rata-rata sampel tersebut\n",
    "\n",
    "Histogram dari seluruh nilai rata-rata akan terlihat seperti kurva bel dari distribusi normal, namun jika Anda melihat dan mengingat kembali, histogram tersebut sebenarnya berbentuk distribusi Student's $t$, yang lebih sering disebut distribusi-$t$. Sebuah distribusi-$t$ muncul ketika kita ingin membuat estimasi dari nilai rata-rata sebuah variabel yang terdistribusi normal pada kondisi di mana besar sampel relatif lebih kecil dan standar deviasi tidak diketahui (karena biasanya memang selalu seperti itu), serta perlu diestimasi dari datanya.\n",
    "\n",
    "Sampel nilai rata-rata dari dataset dengan nilai $n$ seringkali ditulis sebagai $\\overline{x}_n$, di mana standar deviasi dari standar tersebut ditulis sebagai $s_n$ (seperti yang telah didefinisikan di atas). Di sini, kita akan menghitung standar deviasi dari nilai rata-rata sampel, yang kita tulis sebagai $\\hat{s}_n$ dari dataset dengan ukuran $n$. Secara teori, nilai standar deviasi dari nilai rata-rata sampel $\\hat{s}_n$ berhubungan dengan standar deviasi sampel, seperti yang dikemukakan berikut (lihat [di sini](http://en.wikipedia.org/wiki/Standard_deviation#Standard_deviation_of_the_mean)).\n",
    "\n",
    "$\\hat{s}_n = s_n / \\sqrt{n}$"
   ]
  },
  {
   "cell_type": "markdown",
   "metadata": {},
   "source": [
    "###Persentil dari distribusi-$t$\n",
    "\n",
    "Anda dapat mengingat kembali bahwa 90% interval di sekeliling nilai rata-rata dari variabel yang terdistribusi normal biasanya memroses $\\mu-1.64\\sigma$ sampai $\\mu+1.64\\sigma$. Dengan kata lain, 5% dari jumlah data akan berada di bawah $\\mu-1.64\\sigma$ dan 5% data akan berada di atas $\\mu+1.64\\sigma$. Bagaimana jika Anda lupa bahwa kondisi tersebut berarti $1.64\\sigma$ ke kanan dan kiri dari nilai rata-rata? Atau bagaimana jika Anda ingin mengetahui nilai dari persentil yang lain? Anda dapat melihatnya dalam tabel dalam buku statistik (atau dari web), atau menggunakan fungsi persentase poin `ppf`, yang merupakan bagian dari seluruh fungsi distribusi statistik yang didefinisikan di dalam paket `scipy.stats`. Fungsi `ppf` merupakan invers atau kebalikan dari fungsi distribusi kumulatif. Sebagai contoh, `ppf(0.05)` mengembalikan nilai dari data sedemikian sehingga fungsi distribusi kumulatifnya sama dengan 0.05 dalam hal pengembalian nilai. Untuk mencari nilai 5% dan 95%, ketiklah seperti di bawah ini (ingatlah bahwa secara pengaturan standar, distribusi `norm` memiliki nilai rata-rata nol dan standar deviasi 1; Anda dapat menentukan nilai yang berbeda dengan menggunakan argumen kata kunci untuk `loc` dan `scale`, masing-masing secara berurutan)."
   ]
  },
  {
   "cell_type": "code",
   "execution_count": 19,
   "metadata": {
    "collapsed": false
   },
   "outputs": [
    {
     "name": "stdout",
     "output_type": "stream",
     "text": [
      "Limit 5%:  -1.64485362695\n",
      "Limit 95%:  1.64485362695\n",
      "cek jika distribusi berhasil untuk 5%:   0.05\n",
      "cek jika distribusi berhasil untuk 95%:  0.95\n",
      "Limit 5% dengan mu=20, sig=10:  3.55146373049\n",
      "cek:  0.05\n"
     ]
    }
   ],
   "source": [
    "from scipy.stats import norm\n",
    "xvalue_05 = norm.ppf(0.05)\n",
    "xvalue_95 = norm.ppf(0.95)\n",
    "print('Limit 5%: ',xvalue_05)\n",
    "print('Limit 95%: ',xvalue_95)\n",
    "print('cek jika distribusi berhasil untuk 5%:  ',norm.cdf( xvalue_05 ))\n",
    "print('cek jika distribusi berhasil untuk 95%: ',norm.cdf( xvalue_95 ))\n",
    "# Selanjutnya, tentukan nilai rata-rata dan standar deviasi\n",
    "xvalue_05_musig = norm.ppf(0.05, loc = 20, scale = 10) # mu = 20, sigma = 10\n",
    "print('Limit 5% dengan mu=20, sig=10: ',xvalue_05_musig)\n",
    "print('cek: ',norm.cdf(xvalue_05_musig, loc = 20, scale = 10))"
   ]
  },
  {
   "cell_type": "markdown",
   "metadata": {},
   "source": [
    "Fungsi yang sama juga terlihat pada distribusi-$t$ . Distribusi-$t$ mengambil satu argumen tambahan: angka derajat kebebasan, yang sama dengan nilai poin data dikurangi 1. Sebagai contoh, perhatikan sampel dengan 40 poin data, nilai sampel tersebut 20, dan standar deviasi sampel tersebut 2, maka nilai persentil 5 dan 95 adalah:"
   ]
  },
  {
   "cell_type": "code",
   "execution_count": 21,
   "metadata": {
    "collapsed": false
   },
   "outputs": [
    {
     "name": "stdout",
     "output_type": "stream",
     "text": [
      "Limit 5%:   16.630249761\n",
      "Limit 95%:  23.369750239\n",
      "cek jika distribusi berhasil untuk 5%:   0.0500000002153\n",
      "cek jika distribusi berhasil untuk 95%:  0.949999999785\n"
     ]
    }
   ],
   "source": [
    "from scipy.stats import t\n",
    "xvalue_05 = t.ppf(0.05, 39, loc=20, scale=2)\n",
    "xvalue_95 = t.ppf(0.95, 39, loc=20, scale=2)\n",
    "print('Limit 5%:  ',xvalue_05)\n",
    "print('Limit 95%: ',xvalue_95)\n",
    "print('cek jika distribusi berhasil untuk 5%:  ',t.cdf( xvalue_05, 39, loc=20, scale=2 ))\n",
    "print('cek jika distribusi berhasil untuk 95%: ',t.cdf( xvalue_95, 39, loc=20, scale=2 ))"
   ]
  },
  {
   "cell_type": "markdown",
   "metadata": {},
   "source": [
    "###Latihan 3. <a name=\"back3\"></a>Hitunglah besarnya nilai rata-rata di luar persentil 95\n",
    "\n",
    "Kembalilah ke Latihan 1. Buatlah 1000 dataset dengan masing-masing 100 nilai yang diambil dari distribusi normal dengan nilai rata-rata 4 dan standar deviasi 2; gunakan *seed* 22. Untuk tiap dataset, periksalah apakah nilai rata-rata sampel berada di dalam persentil 95 dari distribusi-$t$ di sekitar nilai rata-rata sebenarnya, yaitu 4 (standar deviasi dari nilai rata-rata sampel berubah setiap waktu, tentu saja). Hitunglah berapa kali nilai rata-rata sampel terlalu rendah sampai-sampai berada di bawah persentil 5 dari distribusi-$t$ di sekitar nilai rata-rata sebenarnya. Jika teori ini terbukti benar, seharusnya, tentu saja, kasus ini berlaku untuk 5% dari seluruh dataset yang ada. Dengan demikian, cobalah beberapa *seed* yang sedikit berbeda."
   ]
  },
  {
   "cell_type": "markdown",
   "metadata": {},
   "source": [
    "<a href=\"#ex3answer\">Kunci Jawaban Latihan 3</a>"
   ]
  },
  {
   "cell_type": "markdown",
   "metadata": {},
   "source": [
    "###Latihan 4. <a name=\"back4\"></a>pengujian $t$ pada dataset dengan 20 nilai\n",
    "\n",
    "Buatlah 20 poin data dari distribusi normal dengan nilai rata-rata 39 dan standar deviasi 4. Gunakan *seed* 2. Hitung dan laporkan nilai rata-rata dan standar deviasi dari dataset dan standar deviasi dari nilai rata-ratanya."
   ]
  },
  {
   "cell_type": "code",
   "execution_count": null,
   "metadata": {
    "collapsed": true
   },
   "outputs": [],
   "source": []
  },
  {
   "cell_type": "markdown",
   "metadata": {},
   "source": [
    "Jika Anda menghitung dengan benar, nilai rata-rata dari 20 poin data di atas adlah 38.16. Seseorang dapat saja mengklaim bahwa 20 poin data tersebut diambil dari sebuah distribusi dengan nilai rata-rata 40. Anda diminta untuk memutuskan apakah nilai rata-rata yang sebenarnya adalah betul-betul 40. Menurut istilah statistik, Anda diminta untuk melakukan pengujian hipotesis, menguji hipotesis nol bahwa nilai rata-rata dataset tersebut adalah 40m dan dibandingkan dengan hipotesis alternatif yang menyatakan bahwa nilai rata-rata tersebut tidak tepat 40, tetapi berada dalam level kepentingan 5%. Oleh karena itu, Anda diajak untuk melakukan pengujian-$t$ untuk kedua sisi.\n",
    "\n",
    "Yang dapat Anda lakukan dalam pengujian hipotesis adalah mencoba menolak hipotesis nol, jadi mari kita coba juga cara tersebut. Hampir seluruh buku statistik memberikan resep-resep praktis untuk melakukan pengujian-$t$. Di sini kita akan memvisualisasikan pengujian-$t$.Kita menolak hipotesis nol jika nilai rata-rata sampel berada di luar interval 95% di sekitar nilai rata-rata distribusi-$t$ yang bersesuaian. Jika nilai rata-rata tersebut berada di dalam interval 95%, kita hanya dapat menyimpulkan bahwa tidak ada bukti yang cukup untuk menolak hipotesis nol. Buatlah fungsi probabilitas kepadatan dari distribusi-$t$ dengan nilai rata-rata 40 dan standar deviasi yang bernilai sama dengan standar deviasi nilai rata-rata sampel yang Anda telah Anda hitung sebelumnya. Gambarlah garis merah vertikal yang memperlihatkan limit kiri dan kanan dari interval 95% di sekeliling nilai rata-rata. Gambarlah juga garis hitam vertikal yang tebal pada posisi nilai rata-rata sampel yang telah Anda hitung sebelumnya. Putuskanlah apakah Anda dapat menolak hipotesis nol saat nilai rata-ratanya 40 dan apakah perlu dimasukkan sebagai judul dari figur tersebut."
   ]
  },
  {
   "cell_type": "markdown",
   "metadata": {},
   "source": [
    "<a href=\"#ex4answer\">Kunci Jawaban Latihan 4</a>"
   ]
  },
  {
   "cell_type": "markdown",
   "metadata": {},
   "source": [
    "###Latihan 5. <a name=\"back5\"></a>Pengujian hipotesis pada data balok kayu\n",
    "\n",
    "Muatlah sebuah dataset dari percobaan balok kayu yang disimpan dalam file `douglas_data.csv`. Pertama, perhatian 20 pengukuran pertama dari kekuatan tekuknya. Hitung nilai rata-rata sampel dan standar deviasi dari nilai rata-rata sampel. Produsen balok kayu tersebut mengklaim bahwa nilai rata-rata kekuatan tekuk balok hanya 50 Pa. Lakukanlah pengujian-$t$ (level kepentingan 5%) dengan hipotesis nol yang berarti nilai rata-rata benar-benar 50 Pa dan hipotesis alternatif yang berarti nilai rata-rata bukan 50 Pa dengan menggunakan pendekatan yang telah diaplikasikan sebelumnya pada Latihan 4."
   ]
  },
  {
   "cell_type": "code",
   "execution_count": null,
   "metadata": {
    "collapsed": false
   },
   "outputs": [],
   "source": []
  },
  {
   "cell_type": "markdown",
   "metadata": {},
   "source": [
    "Ulangi pengujian-$t$ di atas, tetapi sekarang lakukanlah dengan menggunakan seluruh pengukuran untuk kekuatan tekuk. Apakah kesimpulan Anda tetap sama seperti sebelumnya?"
   ]
  },
  {
   "cell_type": "code",
   "execution_count": null,
   "metadata": {
    "collapsed": false
   },
   "outputs": [],
   "source": []
  },
  {
   "cell_type": "markdown",
   "metadata": {},
   "source": [
    "<a href=\"#ex5answer\">Kunci Jawaban Latihan 5</a>"
   ]
  },
  {
   "cell_type": "markdown",
   "metadata": {},
   "source": [
    "###Teorema Limit Sentral\n",
    "\n",
    "Sejauh ini kita melihat distribusi dari nilai rata-rata sampel untuk sebuah dataset di saat kita tah bahwa data tersebut diambil dari distribusi normal (kecuali untuk data balok kayu, meksipun datanya betul-betul terlihat seperti distribusi normal. Nilai rata-rata sampel memiliki distribusi student-$t$, yang didekati dengan distribusi normal ketika datasetnya terlalu besar. Dengan demikian, poin data sebanyak 100 buah memang sudah cukup untuk mendekati distribusi normal secara tepat. Anda dapat mengeceknya dengan cara membandingkan, contohnya, fungsi persentase poin `ppf` dari distribusi normal melalui distribusi-$t$ dengan 99 derajat kebebasan, atau hanya dengan membuat plot pdf dari kedua distribusi:"
   ]
  },
  {
   "cell_type": "code",
   "execution_count": 22,
   "metadata": {
    "collapsed": false
   },
   "outputs": [
    {
     "name": "stdout",
     "output_type": "stream",
     "text": [
      "Persentil 95 standar normal:   1.64485362695\n",
      "95 percentile t-dist dengan n=99:  1.660391156\n"
     ]
    },
    {
     "data": {
      "text/plain": [
       "<matplotlib.legend.Legend at 0x9b46650>"
      ]
     },
     "execution_count": 22,
     "metadata": {},
     "output_type": "execute_result"
    },
    {
     "data": {
      "image/png": "[encoded data removed]",
      "text/plain": [
       "<matplotlib.figure.Figure at 0x8e2c470>"
      ]
     },
     "metadata": {},
     "output_type": "display_data"
    }
   ],
   "source": [
    "print('Persentil 95 standar normal:  ',norm.ppf(0.95))\n",
    "print('95 percentile t-dist dengan n=99: ',t.ppf(0.95,99)) \n",
    "x = np.linspace(-4,4,100)\n",
    "y1 = norm.pdf(x)\n",
    "y2 = t.pdf(x,99)\n",
    "plt.plot(x,y1,'b',label='Normal')\n",
    "plt.plot(x,y2,'r',label='t-dist')\n",
    "plt.legend()"
   ]
  },
  {
   "cell_type": "markdown",
   "metadata": {},
   "source": [
    "Teorema limit sentral sekarang menyatakan bahwa distribusi nilai rata-rata sampel mendekati distribusi normal dalam limit tertentu bahkan jika dataset yang dimiliki terambil dari distribusi yang benar-benar berbeda! Kita akan menguji teroma ini dengan cara memasukkan angka-angka ke dalam distribusi Gamma. Distribusi Gamma adalah jenis distribusi yang miring atau condong dan mengambil bentuk parameter  $k$, juga merupakan parameter berskala $\\theta$, serta didefinisikan untuk $x>0$. Detail distribusi Gamma dapat ditemukan, sebagai contoh [di sini](http://en.wikipedia.org/wiki/Gamma_distribution). Marilah kita pilih  parameter bentuk yang sama dengan 2 dan parameter skala yang sama dengan 1 (yang menjadi pengaturan dasar atau *default*). Saat parameter skala sama dengan 1, nilali rata-rata akan sama dengan parameter bentuk. PDF dari distribusi Gamma untuk nilai-nilai tersebut dapat dilihat seperti dibawah ini. Nilai rata-ratanya diindikasikan dengan garis merah vertikal."
   ]
  },
  {
   "cell_type": "code",
   "execution_count": 6,
   "metadata": {
    "collapsed": false
   },
   "outputs": [
    {
     "data": {
      "text/plain": [
       "<matplotlib.lines.Line2D at 0x25c4550>"
      ]
     },
     "execution_count": 6,
     "metadata": {},
     "output_type": "execute_result"
    },
    {
     "data": {
      "image/png": "[encoded data removed]",
      "text/plain": [
       "<matplotlib.figure.Figure at 0x65bee50>"
      ]
     },
     "metadata": {},
     "output_type": "display_data"
    }
   ],
   "source": [
    "from scipy.stats import gamma\n",
    "x = np.linspace(1e-6,10,100)\n",
    "y = gamma.pdf(x,2,scale=1)\n",
    "plt.plot(x,y)\n",
    "plt.axvline(2,color='r')"
   ]
  },
  {
   "cell_type": "markdown",
   "metadata": {},
   "source": [
    "Nilai-nilai acak dapat digambarkan dari distribusi manapun dalam paket `scipy.stats` melalui fungsi `rvs`. Di sini, kita mengambil 1000 angka dan menambahkan histogramnya ke figur sebelumnya."
   ]
  },
  {
   "cell_type": "code",
   "execution_count": 7,
   "metadata": {
    "collapsed": false
   },
   "outputs": [
    {
     "data": {
      "text/plain": [
       "(array([ 0.17210643,  0.30290732,  0.35798137,  0.36716038,  0.27078078,\n",
       "         0.21111722,  0.17899069,  0.12850613,  0.06884257,  0.06884257,\n",
       "         0.06195831,  0.02753703,  0.02524228,  0.01147376,  0.01376851,\n",
       "         0.00917901,  0.00917901,  0.00229475,  0.00229475,  0.0045895 ]),\n",
       " array([ 0.01783081,  0.45360768,  0.88938454,  1.32516141,  1.76093827,\n",
       "         2.19671513,  2.632492  ,  3.06826886,  3.50404573,  3.93982259,\n",
       "         4.37559946,  4.81137632,  5.24715319,  5.68293005,  6.11870692,\n",
       "         6.55448378,  6.99026065,  7.42603751,  7.86181437,  8.29759124,\n",
       "         8.7333681 ]),\n",
       " <a list of 20 Patch objects>)"
      ]
     },
     "execution_count": 7,
     "metadata": {},
     "output_type": "execute_result"
    },
    {
     "data": {
      "image/png": "[encoded data removed]",
      "text/plain": [
       "<matplotlib.figure.Figure at 0x65bea90>"
      ]
     },
     "metadata": {},
     "output_type": "display_data"
    }
   ],
   "source": [
    "x = np.linspace(1e-6,10,100)\n",
    "y = gamma.pdf(x,2)\n",
    "plt.plot(x,y)\n",
    "plt.axvline(2, color='r')\n",
    "data = gamma.rvs(2, size=1000)\n",
    "plt.hist(data, bins=20, normed=True)"
   ]
  },
  {
   "cell_type": "markdown",
   "metadata": {},
   "source": [
    "###Latihan 6. <a name=\"back6\"></a>Selidiki Teorema Limit Sentral untuk Distribusi Gamma\n",
    "\n",
    "Buatlah $t$ dataset dengan jumlah 20 nilai acak yang diambil dari distribusi gamma dengan parameter yang sama dengan 2 dan skala yang sama dengan 1. Buatlah histogram dari nilai rata-rata $N$ dataset dengan menggunakan 20 bin. Dalam grafik yang sama, buatlah PDF dari distribusi normal dengan menggunakan nilai rata-rata dari nilai rata-rata sampel dan standar deviasi sampel; pilihlah limit dari sumbu-$x$ di atnara 0 dan 4. Buatlah 3 grafik, untuk $N=100,1000,10000$ dan melihat bahwa distribusi tersebut mulai mendekati distribusi normal. Tambahkan judul untuk tiap grafik yang menyatakan jumlah angka dari tiap dataset tersebut."
   ]
  },
  {
   "cell_type": "code",
   "execution_count": null,
   "metadata": {
    "collapsed": false
   },
   "outputs": [],
   "source": []
  },
  {
   "cell_type": "markdown",
   "metadata": {},
   "source": [
    "<a href=\"#ex6answer\">Kunci Jawaban Latihan 6</a>"
   ]
  },
  {
   "cell_type": "markdown",
   "metadata": {},
   "source": [
    "###Kunci Jawaban Latihan-latihan"
   ]
  },
  {
   "cell_type": "markdown",
   "metadata": {},
   "source": [
    "<a name=\"ex1answer\">Kunci Jawaban Latihan 1</a>"
   ]
  },
  {
   "cell_type": "code",
   "execution_count": 23,
   "metadata": {
    "collapsed": false
   },
   "outputs": [
    {
     "name": "stdout",
     "output_type": "stream",
     "text": [
      "Nilai rata-rata adalah:  4.00474211854\n",
      "Standar deviasi data adalah: 0.190485481767\n"
     ]
    },
    {
     "data": {
      "text/plain": [
       "(3, 5)"
      ]
     },
     "execution_count": 23,
     "metadata": {},
     "output_type": "execute_result"
    },
    {
     "data": {
      "image/png": "[encoded data removed]",
      "text/plain": [
       "<matplotlib.figure.Figure at 0xada6930>"
      ]
     },
     "metadata": {},
     "output_type": "display_data"
    },
    {
     "data": {
      "image/png": "[encoded data removed]",
      "text/plain": [
       "<matplotlib.figure.Figure at 0x9978bf0>"
      ]
     },
     "metadata": {},
     "output_type": "display_data"
    }
   ],
   "source": [
    "rnd.seed(22)\n",
    "mean_of_data = np.mean( 2.0 * rnd.standard_normal((1000,100)) + 4.0, 1 )\n",
    "print('Nilai rata-rata adalah: ', np.mean(mean_of_data))\n",
    "print('Standar deviasi data adalah:', np.std(mean_of_data, ddof=1))\n",
    "plt.figure()\n",
    "plt.boxplot(mean_of_data)\n",
    "plt.figure()\n",
    "plt.hist(mean_of_data, normed=True)\n",
    "plt.xlim(3,5)"
   ]
  },
  {
   "cell_type": "markdown",
   "metadata": {},
   "source": [
    "<a href=\"#back1\">Kembali ke Latihan 1</a>\n",
    "\n",
    "<a name=\"ex2answer\">Kunci Jawaban Latihan 2</a>"
   ]
  },
  {
   "cell_type": "code",
   "execution_count": 9,
   "metadata": {
    "collapsed": false
   },
   "outputs": [
    {
     "name": "stdout",
     "output_type": "stream",
     "text": [
      "Nilai rata-rata dari nilai rata-rata sampel adalah:  4.00128131235\n",
      "Standar deviasi dari nilai rata-rata sampel:  0.0654148250988\n"
     ]
    },
    {
     "data": {
      "text/plain": [
       "(3, 5)"
      ]
     },
     "execution_count": 9,
     "metadata": {},
     "output_type": "execute_result"
    },
    {
     "data": {
      "image/png": "[encoded data removed]",
      "text/plain": [
       "<matplotlib.figure.Figure at 0x73999d0>"
      ]
     },
     "metadata": {},
     "output_type": "display_data"
    },
    {
     "data": {
      "image/png": "[encoded data removed]",
      "text/plain": [
       "<matplotlib.figure.Figure at 0x7492410>"
      ]
     },
     "metadata": {},
     "output_type": "display_data"
    }
   ],
   "source": [
    "rnd.seed(22)\n",
    "mean_of_data = np.mean( 2.0 * rnd.standard_normal((1000,1000)) + 4.0, 1 )\n",
    "print('Nilai rata-rata dari nilai rata-rata sampel adalah: ', np.mean(mean_of_data))\n",
    "print('Standar deviasi dari nilai rata-rata sampel: ', np.std(mean_of_data, ddof=1))\n",
    "plt.figure()\n",
    "plt.boxplot(mean_of_data)\n",
    "plt.figure()\n",
    "plt.hist(mean_of_data)\n",
    "plt.xlim(3,5)"
   ]
  },
  {
   "cell_type": "markdown",
   "metadata": {},
   "source": [
    "<a href=\"#back2\">Kembali ke Latihan 2</a>\n",
    "\n",
    "<a name=\"ex3answer\">Kunci Jawaban Latihan 3</a>"
   ]
  },
  {
   "cell_type": "code",
   "execution_count": 10,
   "metadata": {
    "collapsed": false
   },
   "outputs": [
    {
     "name": "stdout",
     "output_type": "stream",
     "text": [
      "Jumlah dataset di mana nilai rata-rata sampel di atas persentil 95:  37\n",
      "Jumlah dataset di mana nilai rata-rata sampel di atas persentil 95:  42\n",
      "Jumlah dataset di mana nilai rata-rata sampel di atas persentil 95:  56\n",
      "Jumlah dataset di mana nilai rata-rata sampel di atas persentil 95:  60\n",
      "Jumlah dataset di mana nilai rata-rata sampel di atas persentil 95:  48\n"
     ]
    }
   ],
   "source": [
    "from scipy.stats import t\n",
    "for s in [22,32,42,52,62]:\n",
    "    rnd.seed(s)\n",
    "    data = 2.0 * rnd.standard_normal((1000,100)) + 4.0\n",
    "    mean_of_data = np.mean( data, 1 )\n",
    "    std_of_mean_of_data = np.std( data, 1, ddof = 1 ) / np.sqrt(100)\n",
    "    fivepercentile = t.ppf(0.05, 99)\n",
    "    outside = mean_of_data < 4.0 + std_of_mean_of_data * fivepercentile\n",
    "    print('Jumlah dataset di mana nilai rata-rata sampel di atas persentil 95: ', np.sum( outside ))"
   ]
  },
  {
   "cell_type": "markdown",
   "metadata": {},
   "source": [
    "<a href=\"#back3\">Kembali ke Latihan 3</a>\n",
    "\n",
    "<a name=\"ex4answer\">Kunci Jawaban Latihan 4</a>"
   ]
  },
  {
   "cell_type": "code",
   "execution_count": 24,
   "metadata": {
    "collapsed": false
   },
   "outputs": [
    {
     "name": "stdout",
     "output_type": "stream",
     "text": [
      "nilai rata-rata data:  38.1627400469\n",
      "standar deviasi data:  4.46032692087\n",
      "standar deviasi nilai rata-rata:  0.997359419693\n"
     ]
    }
   ],
   "source": [
    "rnd.seed(2)\n",
    "data = 4 * rnd.standard_normal(20) + 39\n",
    "mu = np.mean(data)\n",
    "sig = np.std(data, ddof=1)\n",
    "sighat = np.std(data, ddof=1) / np.sqrt(20)\n",
    "print('nilai rata-rata data: ', mu)\n",
    "print('standar deviasi data: ', sig)\n",
    "print('standar deviasi nilai rata-rata: ', sighat)"
   ]
  },
  {
   "cell_type": "code",
   "execution_count": 12,
   "metadata": {
    "collapsed": false
   },
   "outputs": [
    {
     "data": {
      "text/plain": [
       "<matplotlib.text.Text at 0x8ded510>"
      ]
     },
     "execution_count": 12,
     "metadata": {},
     "output_type": "execute_result"
    },
    {
     "data": {
      "image/png": "[encoded data removed]",
      "text/plain": [
       "<matplotlib.figure.Figure at 0x8d1a8b0>"
      ]
     },
     "metadata": {},
     "output_type": "display_data"
    }
   ],
   "source": [
    "x = np.linspace(37,43,100)\n",
    "y = t.pdf(x, 19, loc=40, scale=sighat)\n",
    "plt.plot(x,y)\n",
    "perc025 = t.ppf(0.025, 19, loc = 40, scale = sighat)\n",
    "perc975 = t.ppf(0.975, 19, loc = 40, scale = sighat)\n",
    "plt.axvline(perc025,color='r')\n",
    "plt.axvline(perc975,color='r')\n",
    "plt.axvline(mu,color='k',lw=5)\n",
    "plt.title('H0 tidak dapat ditolak')"
   ]
  },
  {
   "cell_type": "markdown",
   "metadata": {},
   "source": [
    "<a href=\"#back4\">Kembali ke Latihan 4</a>\n",
    "\n",
    "<a name=\"ex5answer\">Kunci Jawaban Latihan 5</a>"
   ]
  },
  {
   "cell_type": "code",
   "execution_count": 27,
   "metadata": {
    "collapsed": false
   },
   "outputs": [
    {
     "name": "stdout",
     "output_type": "stream",
     "text": [
      "Sampel nilai rata-rata, standar deviasi dari nilai rata-rata:  48.650505618 0.903543631702\n"
     ]
    },
    {
     "data": {
      "text/plain": [
       "<matplotlib.text.Text at 0xb112950>"
      ]
     },
     "execution_count": 27,
     "metadata": {},
     "output_type": "execute_result"
    },
    {
     "data": {
      "image/png": "[encoded data removed]",
      "text/plain": [
       "<matplotlib.figure.Figure at 0x98ed210>"
      ]
     },
     "metadata": {},
     "output_type": "display_data"
    }
   ],
   "source": [
    "from pandas import read_csv\n",
    "w = read_csv('douglas_data.csv',skiprows=[1],skipinitialspace=True)\n",
    "N = len(w.bstrength)\n",
    "mu = np.mean(w.bstrength)\n",
    "sig = np.std(w.bstrength, ddof=1) / np.sqrt(N)\n",
    "print('Sampel nilai rata-rata, standar deviasi dari nilai rata-rata: ', mu, sig)\n",
    "x = np.linspace(30,70,100)\n",
    "y = t.pdf(x, N-1, loc=50, scale=sig)\n",
    "plt.plot(x,y)\n",
    "perc025 = t.ppf(0.025, N-1, loc = 50, scale = sig)\n",
    "perc975 = t.ppf(0.975, N-1, loc = 50, scale = sig)\n",
    "plt.axvline(perc025,color='r')\n",
    "plt.axvline(perc975,color='r')\n",
    "plt.axvline(mu,color='k',lw=4)\n",
    "plt.title('H0 tertolak: nilai rata-rata bukan 50 Pa')"
   ]
  },
  {
   "cell_type": "code",
   "execution_count": 28,
   "metadata": {
    "collapsed": false
   },
   "outputs": [
    {
     "name": "stdout",
     "output_type": "stream",
     "text": [
      "Sampel nilai rata-rata, standar deviasi dari nilai rata-rata:  48.650505618 0.903543631702\n"
     ]
    },
    {
     "data": {
      "text/plain": [
       "<matplotlib.text.Text at 0xb3afb10>"
      ]
     },
     "execution_count": 28,
     "metadata": {},
     "output_type": "execute_result"
    },
    {
     "data": {
      "image/png": "[encoded data removed]",
      "text/plain": [
       "<matplotlib.figure.Figure at 0xb0f2b70>"
      ]
     },
     "metadata": {},
     "output_type": "display_data"
    }
   ],
   "source": [
    "from pandas import read_csv\n",
    "w = read_csv('douglas_data.csv',skiprows=[1],skipinitialspace=True)\n",
    "N = len(w.bstrength)\n",
    "mu = np.mean(w.bstrength)\n",
    "sig = np.std(w.bstrength, ddof=1) / np.sqrt(N)\n",
    "print('Sampel nilai rata-rata, standar deviasi dari nilai rata-rata: ', mu, sig)\n",
    "x = np.linspace(30,70,100)\n",
    "y = t.pdf(x, N-1, loc=50, scale=sig)\n",
    "plt.plot(x,y)\n",
    "perc025 = t.ppf(0.025, N-1, loc = 50, scale = sig)\n",
    "perc975 = t.ppf(0.975, N-1, loc = 50, scale = sig)\n",
    "plt.axvline(perc025,color='r')\n",
    "plt.axvline(perc975,color='r')\n",
    "plt.axvline(mu,color='k',lw=4)\n",
    "plt.title('Tidak cukup pembuktian untuk menolak H0: besar nilai rata-rata mungkin 50')"
   ]
  },
  {
   "cell_type": "markdown",
   "metadata": {
    "collapsed": true
   },
   "source": [
    "<a href=\"#back5\">Kembali ke Latihan 5</a>\n",
    "\n",
    "<a name=\"ex6answer\">Kunci Jawaban Latihan 6</a>"
   ]
  },
  {
   "cell_type": "code",
   "execution_count": 29,
   "metadata": {
    "collapsed": false
   },
   "outputs": [
    {
     "data": {
      "image/png": "[encoded data removed]",
      "text/plain": [
       "<matplotlib.figure.Figure at 0xb00a9f0>"
      ]
     },
     "metadata": {},
     "output_type": "display_data"
    },
    {
     "data": {
      "image/png": "[encoded data removed]",
      "text/plain": [
       "<matplotlib.figure.Figure at 0xb523450>"
      ]
     },
     "metadata": {},
     "output_type": "display_data"
    },
    {
     "data": {
      "image/png": "[encoded data removed]",
      "text/plain": [
       "<matplotlib.figure.Figure at 0xb6ff6f0>"
      ]
     },
     "metadata": {},
     "output_type": "display_data"
    }
   ],
   "source": [
    "from scipy.stats import norm, gamma\n",
    "for N in [100, 1000, 10000]:\n",
    "    data = gamma.rvs(2,size=(N,20))\n",
    "    mean_of_data = np.mean(data,1)\n",
    "    mu = np.mean(mean_of_data)\n",
    "    sig = np.std(mean_of_data,ddof=1)\n",
    "    plt.figure()\n",
    "    plt.hist(mean_of_data,bins=20,normed=True)\n",
    "    x = np.linspace(0,4,100)\n",
    "    y = norm.pdf(x,loc=mu,scale=sig)\n",
    "    plt.plot(x,y,'r')\n",
    "    plt.title('N='+str(N))"
   ]
  },
  {
   "cell_type": "markdown",
   "metadata": {},
   "source": [
    "<a href=\"#back6\">Kunci Jawaban Latihan 6</a>"
   ]
  }
 ],
 "metadata": {
  "kernelspec": {
   "display_name": "Python 3",
   "language": "python",
   "name": "python3"
  },
  "language_info": {
   "codemirror_mode": {
    "name": "ipython",
    "version": 3
   },
   "file_extension": ".py",
   "mimetype": "text/x-python",
   "name": "python",
   "nbconvert_exporter": "python",
   "pygments_lexer": "ipython3"
  }
 },
 "nbformat": 4,
 "nbformat_minor": 0
}
